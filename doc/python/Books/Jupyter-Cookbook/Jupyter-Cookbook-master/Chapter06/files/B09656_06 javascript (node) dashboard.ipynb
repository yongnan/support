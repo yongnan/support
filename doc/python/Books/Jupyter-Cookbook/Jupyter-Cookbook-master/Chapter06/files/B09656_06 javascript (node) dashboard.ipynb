{
 "cells": [
  {
   "cell_type": "code",
   "execution_count": 6,
   "metadata": {
    "extensions": {
     "jupyter_dashboards": {
      "version": 1,
      "views": {
       "grid_default": {
        "col": 0,
        "height": 12,
        "hidden": false,
        "row": 0,
        "width": 4
       },
       "report_default": {}
      }
     }
    }
   },
   "outputs": [
    {
     "name": "stdout",
     "output_type": "stream",
     "text": [
      "[\n",
      "    {\n",
      "        \"name\": \"lion\",\n",
      "        \"avg_weight\": \"400\"\n",
      "    },\n",
      "    {\n",
      "        \"name\": \"tiger\",\n",
      "        \"avg_weight\": \"400\"\n",
      "    },\n",
      "    {\n",
      "        \"name\": \"human\",\n",
      "        \"avg_weight\": \"150\"\n",
      "    },\n",
      "    {\n",
      "        \"name\": \"elephant\",\n",
      "        \"avg_weight\": \"2000\"\n",
      "    }\n",
      "]\n",
      "2000\n"
     ]
    }
   ],
   "source": [
    "var fs = require(\"fs\");\n",
    "var d3 = require(\"d3\");\n",
    "var _ = require(\"lodash\");\n",
    "\n",
    "fs.readFile(\"/Users/ToomeyD/Documents//animals.tsv\", \"utf8\", function(error, data) {\n",
    "  data = d3.tsvParse(data);\n",
    "  console.log(JSON.stringify(data, null, 4));\n",
    "\n",
    "  var maxWeight = d3.max(data, function(d) { return parseInt(d.avg_weight); });\n",
    "  console.log(maxWeight);\n",
    "});"
   ]
  },
  {
   "cell_type": "code",
   "execution_count": 7,
   "metadata": {
    "extensions": {
     "jupyter_dashboards": {
      "version": 1,
      "views": {
       "grid_default": {
        "col": 4,
        "height": 5,
        "hidden": false,
        "row": 0,
        "width": 6
       },
       "report_default": {}
      }
     }
    }
   },
   "outputs": [
    {
     "name": "stdout",
     "output_type": "stream",
     "text": [
      "Raw data is  [ 98, 98.6, 98.4, 98.8, 200, 120, 98.5 ]\n",
      "Standard Deviation is  35.07\n",
      "Mean is  116.04\n",
      "Median is  98.6\n",
      "Median Abs Deviation is 0.20000000000000284\n",
      "The outliers of the data set are  [ 4, 5, 6 ]\n",
      "The data set without outliers is  [ 98, 98.6, 98.4, 98.8 ]\n"
     ]
    }
   ],
   "source": [
    "const stats = require(\"stats-analysis\");\n",
    "\n",
    "var arr = [98, 98.6, 98.4, 98.8, 200, 120, 98.5];\n",
    "\n",
    "//standard deviation \n",
    "var my_stddev = stats.stdev(arr).toFixed(2);\n",
    " \n",
    "//mean \n",
    "var my_mean = stats.mean(arr).toFixed(2);\n",
    " \n",
    "//median \n",
    "var my_median = stats.median(arr);\n",
    " \n",
    "//median absolute deviation \n",
    "var my_mad = stats.MAD(arr);\n",
    " \n",
    "// Get the index locations of the outliers in the data set \n",
    "var my_outliers = stats.indexOfOutliers(arr);\n",
    " \n",
    "// Remove the outliers \n",
    "var my_without_outliers = stats.filterOutliers(arr);\n",
    "\n",
    "//display our stats\n",
    "console.log(\"Raw data is \", arr);\n",
    "console.log(\"Standard Deviation is \", my_stddev);\n",
    "console.log(\"Mean is \", my_mean);\n",
    "console.log(\"Median is \", my_median);\n",
    "console.log(\"Median Abs Deviation is \" + my_mad);\n",
    "console.log(\"The outliers of the data set are \", my_outliers);\n",
    "console.log(\"The data set without outliers is \", my_without_outliers);"
   ]
  }
 ],
 "metadata": {
  "extensions": {
   "jupyter_dashboards": {
    "activeView": "grid_default",
    "version": 1,
    "views": {
     "grid_default": {
      "cellMargin": 10,
      "defaultCellHeight": 20,
      "maxColumns": 12,
      "name": "grid",
      "type": "grid"
     },
     "report_default": {
      "name": "report",
      "type": "report"
     }
    }
   }
  },
  "kernelspec": {
   "display_name": "Javascript (Node.js)",
   "language": "javascript",
   "name": "javascript"
  },
  "language_info": {
   "file_extension": ".js",
   "mimetype": "application/javascript",
   "name": "javascript",
   "version": "8.9.1"
  }
 },
 "nbformat": 4,
 "nbformat_minor": 2
}
